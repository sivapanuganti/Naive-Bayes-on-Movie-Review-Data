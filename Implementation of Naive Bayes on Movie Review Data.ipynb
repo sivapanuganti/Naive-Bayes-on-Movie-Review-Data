{
 "cells": [
  {
   "cell_type": "code",
   "execution_count": 4,
   "metadata": {},
   "outputs": [],
   "source": [
    "#Import libraries & movie_review data\n",
    "import nltk\n",
    "from nltk.corpus import movie_reviews\n",
    "import random"
   ]
  },
  {
   "cell_type": "code",
   "execution_count": 6,
   "metadata": {},
   "outputs": [],
   "source": [
    "documents = [(list(movie_reviews.words(fileid)), category)\n",
    "for category in movie_reviews.categories()\n",
    "for fileid in movie_reviews.fileids(category)]\n",
    "random.shuffle(documents)"
   ]
  },
  {
   "cell_type": "code",
   "execution_count": 8,
   "metadata": {},
   "outputs": [
    {
     "name": "stdout",
     "output_type": "stream",
     "text": [
      "Number of positive reviews: 1000\n",
      "Number of negative reviews: 1000\n"
     ]
    }
   ],
   "source": [
    "#This dataset contains 2000 movie reviews manually labeled by `pos' (positive review) or\n",
    "`neg' (negative review).labels = [x[1] for x in documents]\n",
    "print (\"Number of positive reviews: \" +\n",
    "        str(len([x for x in labels if x == 'pos'])))\n",
    "print (\"Number of negative reviews: \" +\n",
    "        str(len([x for x in labels if x == 'neg'])))"
   ]
  },
  {
   "cell_type": "code",
   "execution_count": 9,
   "metadata": {},
   "outputs": [],
   "source": [
    "#Now, We choose the 2000 most frequent words and define the function that generates binary\n",
    "#feature vector x based on these 2000 words for each document.\n",
    "all_words = nltk.FreqDist(w.lower() for w in movie_reviews.words())\n",
    "word_features = list(all_words)[:2000]"
   ]
  },
  {
   "cell_type": "code",
   "execution_count": 10,
   "metadata": {},
   "outputs": [],
   "source": [
    "def document_features(document):\n",
    "    document_words = set(document)\n",
    "    features = {}\n",
    "    for word in word_features:\n",
    "        features['contains({})'.format(word)] = (word in document_words)\n",
    "    return features"
   ]
  },
  {
   "cell_type": "code",
   "execution_count": 12,
   "metadata": {},
   "outputs": [
    {
     "name": "stdout",
     "output_type": "stream",
     "text": [
      "contains(plot): False\n",
      "contains(:): False\n",
      "contains(two): False\n",
      "contains(teen): False\n",
      "contains(couples): False\n",
      "contains(go): False\n",
      "contains(to): False\n",
      "contains(a): False\n",
      "contains(church): False\n",
      "contains(party): False\n"
     ]
    }
   ],
   "source": [
    "from itertools import islice\n",
    "feature = document_features(['batmans', 'inquires', 'rags'])\n",
    "for key in islice(feature, 10):\n",
    "    print( key + ': ' + str(feature[key]))"
   ]
  },
  {
   "cell_type": "code",
   "execution_count": 14,
   "metadata": {},
   "outputs": [
    {
     "name": "stdout",
     "output_type": "stream",
     "text": [
      "Size of train set is: 1900\n",
      "Size of test set is: 100\n"
     ]
    }
   ],
   "source": [
    "#Now split the data into train and test sets. Lets allocate 1900 documents for training set \n",
    "#and 100 documents to the test set.\n",
    "featuresets = [(document_features(d), c) for (d,c) in documents]\n",
    "train_set, test_set = featuresets[100:], featuresets[:100]\n",
    "print(\"Size of train set is: \" + str(len(train_set)))\n",
    "print(\"Size of test set is: \" + str(len(test_set)))"
   ]
  },
  {
   "cell_type": "code",
   "execution_count": 15,
   "metadata": {},
   "outputs": [
    {
     "name": "stdout",
     "output_type": "stream",
     "text": [
      "Accuracy: 0.83\n"
     ]
    }
   ],
   "source": [
    "#Training the model using Naive Bayes and calculating the accuracy\n",
    "classifier = nltk.NaiveBayesClassifier.train(train_set)\n",
    "print(\"Accuracy: \" + str(nltk.classify.accuracy(classifier, test_set)))\n"
   ]
  },
  {
   "cell_type": "code",
   "execution_count": 16,
   "metadata": {},
   "outputs": [
    {
     "name": "stdout",
     "output_type": "stream",
     "text": [
      "Most Informative Features\n",
      " contains(unimaginative) = True              neg : pos    =      8.3 : 1.0\n",
      "          contains(mena) = True              neg : pos    =      7.0 : 1.0\n",
      "     contains(atrocious) = True              neg : pos    =      7.0 : 1.0\n",
      "        contains(suvari) = True              neg : pos    =      7.0 : 1.0\n",
      "    contains(schumacher) = True              neg : pos    =      7.0 : 1.0\n",
      "        contains(turkey) = True              neg : pos    =      6.5 : 1.0\n",
      "       contains(singers) = True              pos : neg    =      6.4 : 1.0\n",
      "        contains(shoddy) = True              neg : pos    =      6.3 : 1.0\n",
      "        contains(justin) = True              neg : pos    =      5.8 : 1.0\n",
      "           contains(ugh) = True              neg : pos    =      5.8 : 1.0\n"
     ]
    }
   ],
   "source": [
    "#We can also get the most informative features\n",
    "classifier.show_most_informative_features(10)"
   ]
  }
 ],
 "metadata": {
  "kernelspec": {
   "display_name": "Python 3",
   "language": "python",
   "name": "python3"
  },
  "language_info": {
   "codemirror_mode": {
    "name": "ipython",
    "version": 3
   },
   "file_extension": ".py",
   "mimetype": "text/x-python",
   "name": "python",
   "nbconvert_exporter": "python",
   "pygments_lexer": "ipython3",
   "version": "3.6.2"
  }
 },
 "nbformat": 4,
 "nbformat_minor": 2
}
